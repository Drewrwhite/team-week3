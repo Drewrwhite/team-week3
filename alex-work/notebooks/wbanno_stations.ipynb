{
 "cells": [
  {
   "attachments": {},
   "cell_type": "markdown",
   "metadata": {},
   "source": [
    "##### Creating `wbanno_locations` Airflow variable/secret  "
   ]
  },
  {
   "attachments": {},
   "cell_type": "markdown",
   "metadata": {},
   "source": [
    "1. Read USCRN master list of WBANNO station codes (`wbanmasterlist.psv`)\n",
    "2. Filter to only stations in Alaska\n",
    "3. Create dictionary: \n",
    "```python\n",
    "wbanno_locations = {\n",
    "  '<wbanno_code1>':{'station_location':'<station_name>', 'latitude':'<latitude>', 'longitude':'<longitude>'}}\n",
    "  '<wbanno_code2>':{'station_location':'<location_name>', 'latitude':'<latitude>', 'longitude':'<longitude>'}}\n",
    "```\n",
    "4. Write to JSON \n",
    "5. Save in Airflow as environment variable `wbanno_locations`"
   ]
  },
  {
   "cell_type": "code",
   "execution_count": null,
   "metadata": {},
   "outputs": [],
   "source": [
    "# 1.)\n",
    "import pandas as pd \n",
    "\n",
    "\n",
    "pd.read_csv"
   ]
  }
 ],
 "metadata": {
  "kernelspec": {
   "display_name": "venv",
   "language": "python",
   "name": "python3"
  },
  "language_info": {
   "name": "python",
   "version": "3.7.16 (default, Dec  7 2022, 01:12:33) \n[GCC 11.3.0]"
  },
  "orig_nbformat": 4,
  "vscode": {
   "interpreter": {
    "hash": "c8b552aa03fd1a84f75da23b88ec62cd47e7b74ff6fa717b01373b8fb12f71a3"
   }
  }
 },
 "nbformat": 4,
 "nbformat_minor": 2
}
