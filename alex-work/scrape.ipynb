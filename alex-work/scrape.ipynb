{
 "cells": [
  {
   "attachments": {},
   "cell_type": "markdown",
   "metadata": {},
   "source": [
    "#### ETL Overview \n",
    "\n",
    "_Data_\n",
    "\n",
    "There are two main data sources for my portion of the project:\n",
    "* [USCRN Hourly Historical Weather Data](https://www.ncei.noaa.gov/pub/data/uscrn/products/hourly02/): This page contains hourly weather data from the U.S. Climate Reference Network / U.S. Regional Climate Reference Network (USCRN/USRCRN) stored as tabular .txt files. \n",
    "* [NWS Forecasts](https://forecast.weather.gov/MapClick.php?lat=60.7506&lon=-160.5006&unit=0&lg=english&FcstType=digital): The National Weather Service has forecast offices in Fairbanks and Anchorage which provide hourly forecasts for various locations in Alaska. \n",
    "\n",
    "_USCRN pipeline_\n",
    "\n",
    "For data that's already available: \n",
    "\n",
    "0. Save column names and description from [headers.txt](https://www.ncei.noaa.gov/pub/data/uscrn/products/hourly02/headers.txt) to .csv\n",
    "1.  Scrape all existing USCRN data from weather stations in Alaska and save locally to a .csv\n",
    "       - For each year ([2000-2023](https://www.ncei.noaa.gov/pub/data/uscrn/products/hourly02/)): \n",
    "         - Find all filenames containing 'AK'\n",
    "         - For each 'AK' file: \n",
    "           - Retrieve .txt data as dataframe \n",
    "           - Add column headers from `headers.txt`\n",
    "           - Add a location column based on filename \n",
    "           - Append to local .csv file\n",
    "2.  Upload .csv to Big Query \n",
    "\n",
    "For future data, write a dag with tasks: \n",
    "1. getUpdates()\n",
    "    -  Checks the value for 'Last modified' on the current year's [index page](https://www.ncei.noaa.gov/pub/data/uscrn/products/hourly02/2023/) \n",
    "    -  If more recent than the last recorded value: \n",
    "       -  For every AK dataset on page: \n",
    "          -  Retrieve the .txt file \n",
    "          -  Filter for records after current 'Last modified' value\n",
    "          -  Write new records to .csv  \n",
    "       -  Store the new 'Last modified' value \n",
    "       -  Trigger next task\n",
    "    -  Else, pass\n",
    "2. upload() \n",
    "   - Upload (append) .csv of new records to BigQuery table \n",
    "\n",
    "_NWS Forecast "
   ]
  }
 ],
 "metadata": {
  "kernelspec": {
   "display_name": "Python 3",
   "language": "python",
   "name": "python3"
  },
  "language_info": {
   "name": "python",
   "version": "3.10.6 (main, Nov 14 2022, 16:10:14) [GCC 11.3.0]"
  },
  "orig_nbformat": 4,
  "vscode": {
   "interpreter": {
    "hash": "916dbcbb3f70747c44a77c7bcd40155683ae19c65e1c03b4aa3499c5328201f1"
   }
  }
 },
 "nbformat": 4,
 "nbformat_minor": 2
}
