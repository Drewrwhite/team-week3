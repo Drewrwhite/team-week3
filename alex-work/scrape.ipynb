{
 "cells": [
  {
   "attachments": {},
   "cell_type": "markdown",
   "metadata": {},
   "source": [
    "#### USCRN Data "
   ]
  },
  {
   "cell_type": "code",
   "execution_count": 216,
   "metadata": {},
   "outputs": [
    {
     "name": "stderr",
     "output_type": "stream",
     "text": [
      "/tmp/ipykernel_41028/798438717.py:7: YAMLLoadWarning: calling yaml.load() without Loader=... is deprecated, as the default Loader is unsafe. Please read https://msg.pyyaml.org/load for full details.\n",
      "  sources = yaml.load(yaml_file)\n"
     ]
    }
   ],
   "source": [
    "from bs4 import BeautifulSoup\n",
    "import requests\n",
    "import pandas as pd \n",
    "import yaml \n",
    "\n",
    "with open (\"sources.yaml\", \"r\") as yaml_file:\n",
    "  sources = yaml.load(yaml_file)"
   ]
  },
  {
   "cell_type": "code",
   "execution_count": 217,
   "metadata": {},
   "outputs": [],
   "source": [
    "header_url = sources['USCRN']['headers']\n",
    "header_response = requests.get(header_url)\n",
    "header_soup = BeautifulSoup(header_response.content, \"html.parser\")\n",
    "\n",
    "columns = str(header_soup).split(\"\\n\")[1].strip(\" \").split(\" \")\n",
    "columns = list(map(lambda x: str.lower(x), columns))"
   ]
  },
  {
   "cell_type": "code",
   "execution_count": 51,
   "metadata": {},
   "outputs": [],
   "source": [
    "base_url = sources[\"USCRN\"][\"index\"]\n",
    "base_response = requests.get(base_url)\n",
    "base_soup = BeautifulSoup(base_response.content, \"html.parser\")"
   ]
  },
  {
   "cell_type": "code",
   "execution_count": 130,
   "metadata": {},
   "outputs": [],
   "source": [
    "import re\n",
    "\n",
    "links = base_soup.find_all(\"a\") # 'links' in this notebook will refer to <a> elements, not urls\n",
    "years = [str(x).zfill(1) for x in range(2000,2024)]\n",
    "year_links = [link for link in links if link['href'].rstrip('/') in years]\n",
    "\n",
    "file_urls = []\n",
    "for year_link in year_links: \n",
    "  year_url = base_url + year_link.get(\"href\")\n",
    "  response = requests.get(year_url) \n",
    "  soup = BeautifulSoup(response.content, 'html.parser')\n",
    "  file_links = soup.find_all('a', href=re.compile(r'AK.*\\.txt'))\n",
    "  if file_links:\n",
    "    new_file_urls = [year_url + link.getText() for link in file_links]\n",
    "    file_urls.extend(new_file_urls)"
   ]
  },
  {
   "cell_type": "code",
   "execution_count": null,
   "metadata": {},
   "outputs": [],
   "source": [
    "for url in file_urls:\n",
    "  response = requests.get(url)\n",
    "  soup = BeautifulSoup(response.content,'html.parser')\n",
    "  rows = [re.split('\\s+', newline) for newline in str(soup).split('\\n')]\n",
    "  "
   ]
  },
  {
   "cell_type": "code",
   "execution_count": 213,
   "metadata": {},
   "outputs": [],
   "source": [
    "# Demo of loop \n",
    "station_location = re.search(\"_[A-Z]{1}[a-z]+_\", file_urls[0])[0].strip(\"_\")\n",
    "file_response = requests.get(file_urls[0])\n",
    "soup = BeautifulSoup(file_response.content, 'html.parser')\n",
    "rows = [re.split('\\s+', newline) for newline in str(soup).split('\\n')]\n",
    "df = pd.DataFrame(rows,columns=columns)\n",
    "df.insert(0, 'station_location', station_location)"
   ]
  },
  {
   "cell_type": "code",
   "execution_count": 215,
   "metadata": {},
   "outputs": [
    {
     "data": {
      "text/plain": [
       "station_location     Fairbanks\n",
       "wbanno                        \n",
       "utc_date                  None\n",
       "utc_time                  None\n",
       "lst_date                  None\n",
       "lst_time                  None\n",
       "crx_vn                    None\n",
       "longitude                 None\n",
       "latitude                  None\n",
       "t_calc                    None\n",
       "t_hr_avg                  None\n",
       "t_max                     None\n",
       "t_min                     None\n",
       "p_calc                    None\n",
       "solarad                   None\n",
       "solarad_flag              None\n",
       "solarad_max               None\n",
       "solarad_max_flag          None\n",
       "solarad_min               None\n",
       "solarad_min_flag          None\n",
       "sur_temp_type             None\n",
       "sur_temp                  None\n",
       "sur_temp_flag             None\n",
       "sur_temp_max              None\n",
       "sur_temp_max_flag         None\n",
       "sur_temp_min              None\n",
       "sur_temp_min_flag         None\n",
       "rh_hr_avg                 None\n",
       "rh_hr_avg_flag            None\n",
       "soil_moisture_5           None\n",
       "soil_moisture_10          None\n",
       "soil_moisture_20          None\n",
       "soil_moisture_50          None\n",
       "soil_moisture_100         None\n",
       "soil_temp_5               None\n",
       "soil_temp_10              None\n",
       "soil_temp_20              None\n",
       "soil_temp_50              None\n",
       "soil_temp_100             None\n",
       "Name: 3459, dtype: object"
      ]
     },
     "execution_count": 215,
     "metadata": {},
     "output_type": "execute_result"
    }
   ],
   "source": [
    "df.iloc[3459,:]"
   ]
  },
  {
   "cell_type": "code",
   "execution_count": 92,
   "metadata": {},
   "outputs": [
    {
     "data": {
      "text/plain": [
       "[<a href=\"CRNH0203-2001-NC_Asheville_8_SSW.txt\">CRNH0203-2001-NC_Asheville_8_SSW.txt</a>,\n",
       " <a href=\"CRNH0203-2001-NC_Asheville_13_S.txt\">CRNH0203-2001-NC_Asheville_13_S.txt</a>]"
      ]
     },
     "execution_count": 92,
     "metadata": {},
     "output_type": "execute_result"
    }
   ],
   "source": [
    "import re\n",
    "x = year_soups[1].find_all('a', href=re.compile(r'.*NC.*\\.txt'))\n",
    "x"
   ]
  },
  {
   "cell_type": "code",
   "execution_count": null,
   "metadata": {},
   "outputs": [],
   "source": []
  },
  {
   "cell_type": "code",
   "execution_count": 99,
   "metadata": {},
   "outputs": [
    {
     "data": {
      "text/plain": [
       "{'Asheville'}"
      ]
     },
     "execution_count": 99,
     "metadata": {},
     "output_type": "execute_result"
    }
   ],
   "source": [
    "{a.strip(\"_\") for a in re.findall(r'_[A-Z]{1}[a-z]+_',x[0].getText())}"
   ]
  }
 ],
 "metadata": {
  "kernelspec": {
   "display_name": "Python 3",
   "language": "python",
   "name": "python3"
  },
  "language_info": {
   "codemirror_mode": {
    "name": "ipython",
    "version": 3
   },
   "file_extension": ".py",
   "mimetype": "text/x-python",
   "name": "python",
   "nbconvert_exporter": "python",
   "pygments_lexer": "ipython3",
   "version": "3.10.6"
  },
  "orig_nbformat": 4,
  "vscode": {
   "interpreter": {
    "hash": "916dbcbb3f70747c44a77c7bcd40155683ae19c65e1c03b4aa3499c5328201f1"
   }
  }
 },
 "nbformat": 4,
 "nbformat_minor": 2
}
