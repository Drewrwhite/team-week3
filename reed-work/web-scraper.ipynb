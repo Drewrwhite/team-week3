{
 "cells": [
  {
   "cell_type": "code",
   "execution_count": 23,
   "metadata": {},
   "outputs": [],
   "source": [
    "import requests\n",
    "from bs4 import BeautifulSoup\n",
    "import pandas as pd\n",
    "import re\n",
    "from lxml import etree"
   ]
  },
  {
   "cell_type": "code",
   "execution_count": 52,
   "metadata": {},
   "outputs": [
    {
     "data": {
      "text/html": [
       "<div>\n",
       "<style scoped>\n",
       "    .dataframe tbody tr th:only-of-type {\n",
       "        vertical-align: middle;\n",
       "    }\n",
       "\n",
       "    .dataframe tbody tr th {\n",
       "        vertical-align: top;\n",
       "    }\n",
       "\n",
       "    .dataframe thead th {\n",
       "        text-align: right;\n",
       "    }\n",
       "</style>\n",
       "<table border=\"1\" class=\"dataframe\">\n",
       "  <thead>\n",
       "    <tr style=\"text-align: right;\">\n",
       "      <th></th>\n",
       "      <th>Temperature_F</th>\n",
       "      <th>Temperature_C</th>\n",
       "      <th>Barometer</th>\n",
       "      <th>Dewpoint</th>\n",
       "      <th>Humidity</th>\n",
       "      <th>Last update</th>\n",
       "      <th>Visibility</th>\n",
       "      <th>Wind Chill</th>\n",
       "      <th>Wind Speed</th>\n",
       "      <th>elevation_ft</th>\n",
       "      <th>latitude</th>\n",
       "      <th>longitude</th>\n",
       "      <th>location</th>\n",
       "    </tr>\n",
       "  </thead>\n",
       "  <tbody>\n",
       "    <tr>\n",
       "      <th>0</th>\n",
       "      <td>53°F</td>\n",
       "      <td>12°C</td>\n",
       "      <td>29.71 in (1006.4 mb)</td>\n",
       "      <td>33°F (1°C)</td>\n",
       "      <td>47%</td>\n",
       "      <td>14 Feb 12:53 pm CST</td>\n",
       "      <td>10.00 mi</td>\n",
       "      <td>49°F (9°C)</td>\n",
       "      <td>S 14 G 26 mph</td>\n",
       "      <td>617</td>\n",
       "      <td>41.78</td>\n",
       "      <td>87.76</td>\n",
       "      <td>Chicago, Chicago Midway Airport (KMDW)</td>\n",
       "    </tr>\n",
       "  </tbody>\n",
       "</table>\n",
       "</div>"
      ],
      "text/plain": [
       "  Temperature_F Temperature_C             Barometer    Dewpoint Humidity  \\\n",
       "0          53°F          12°C  29.71 in (1006.4 mb)  33°F (1°C)      47%   \n",
       "\n",
       "           Last update Visibility  Wind Chill     Wind Speed elevation_ft  \\\n",
       "0  14 Feb 12:53 pm CST   10.00 mi  49°F (9°C)  S 14 G 26 mph          617   \n",
       "\n",
       "  latitude longitude                                location  \n",
       "0    41.78     87.76  Chicago, Chicago Midway Airport (KMDW)  "
      ]
     },
     "metadata": {},
     "output_type": "display_data"
    }
   ],
   "source": [
    "#-------------------Extract-------------------------\n",
    "\n",
    "url = \"https://forecast.weather.gov/MapClick.php?lat=41.884250000000065&lon=-87.63244999999995#.Y-q4ltLMJkj\"\n",
    "r = requests.get(url)\n",
    "soup = BeautifulSoup(r.content,\"html.parser\")\n",
    "\n",
    "#various containers\n",
    "item1 = soup.find_all(id='current_conditions-summary')\n",
    "item2 = soup.find_all(id='current_conditions_detail')\n",
    "\n",
    "#raw data\n",
    "temp_f = [item.find(class_=\"myforecast-current-lrg\").get_text() for item in item1]\n",
    "temp_c = [item.find(class_=\"myforecast-current-sm\").get_text() for item in item1]\n",
    "\n",
    "#df of temperatures\n",
    "df_temp = pd.DataFrame({\"Temperature_F\" : temp_f, \"Temperature_C\": temp_c})\n",
    "\n",
    "#df_2 is a df of current conditions in detail\n",
    "table = soup.find_all('table')\n",
    "df_2 = pd.read_html(str(table))[0]\n",
    "df_2 = df_2.pivot(columns=0, values=1).ffill().dropna().reset_index().drop(columns=['index'])\n",
    "\n",
    "#merge both dataframes\n",
    "source_df=pd.concat([df_temp,df_2],axis=1)\n",
    "\n",
    "#scrape lattitude, longitude, and elevation \n",
    "lat_lon_elev = soup.find('span', {'class': 'smallTxt'}).text.strip()\n",
    "lat, lon, elev = re.findall(r'[-+]?\\d*\\.\\d+|\\d+', lat_lon_elev)\n",
    "\n",
    "#scrape name\n",
    "location = soup.find('h2', {'class': 'panel-title'}).text.strip()\n",
    "\n",
    "#add location, lat, long, and elev to source_df\n",
    "source_df['elevation_ft'] = elev\n",
    "source_df['latitude'] = lat\n",
    "source_df['longitude'] = lon\n",
    "source_df['location'] = location\n",
    "\n",
    "\n",
    "display(source_df)\n",
    "\n"
   ]
  },
  {
   "cell_type": "code",
   "execution_count": 59,
   "metadata": {},
   "outputs": [
    {
     "name": "stderr",
     "output_type": "stream",
     "text": [
      "/home/reed/Desktop/epicodus/team-week3/reed-work/venvteamweek/lib/python3.7/site-packages/ipykernel_launcher.py:9: DeprecationWarning: executable_path has been deprecated, please pass in a Service object\n",
      "  if __name__ == \"__main__\":\n"
     ]
    },
    {
     "name": "stdout",
     "output_type": "stream",
     "text": [
      "0.14\n",
      "0.11\n"
     ]
    }
   ],
   "source": [
    "from bs4 import BeautifulSoup\n",
    "from selenium import webdriver\n",
    "from time import sleep\n",
    "from selenium.webdriver.common.by import By\n",
    "\n",
    "URLS = [\"https://www.wunderground.com/history/daily/us/or/portland\", 'https://www.wunderground.com/history/daily/us/ak/sitka/PASI']\n",
    "for URL in URLS:\n",
    "\n",
    "    driver = webdriver.Chrome(r\"C:/home/reed/.cache/selenium/chromedriver/linux64/109.0.5414.74\")\n",
    "    driver.get(URL)\n",
    "    sleep(10)\n",
    "\n",
    "    soup = BeautifulSoup(driver.page_source, \"html.parser\")\n",
    "\n",
    "    precip = driver.find_element(By.XPATH,\"/html/body/app-root/app-history/one-column-layout/wu-header/sidenav/mat-sidenav-container/mat-sidenav-content/div/section/div[2]/div[1]/div[3]/div[1]/div/lib-city-history-summary/div/div[2]/table/tbody[2]/tr/td[1]\").text\n",
    "    print(precip)\n",
    "\n",
    "    driver.quit()"
   ]
  },
  {
   "cell_type": "code",
   "execution_count": null,
   "metadata": {},
   "outputs": [],
   "source": [
    "#-------------Transformations------------------------\n"
   ]
  },
  {
   "cell_type": "code",
   "execution_count": null,
   "metadata": {},
   "outputs": [],
   "source": [
    "import requests\n",
    "from bs4 import BeautifulSoup\n",
    "import re\n",
    "\n",
    "with open('cities.json') as f:\n",
    "    cities = json.load(f)\n",
    "\n",
    "for city in cities:\n",
    "    response = requests.get(city['NWS_URL'])\n",
    "    soup = BeautifulSoup(response.content, 'html.parser')\n",
    "\n",
    "    location = soup.find('h2', {'class': 'panel-title'})\n",
    "    lat_lon_elev = soup.find('span', {'class': 'smallTxt'}).text.strip()\n",
    "    lat, lon, elev = re.findall(r'[-+]?\\d*\\.\\d+|\\d+', lat_lon_elev)\n",
    "    temperature = soup.find('p', {'class': 'myforecast-current-lrg'})\n",
    "    humidity_elem = soup.find('td', text='Humidity')\n",
    "    humidity = humidity_elem.find_next('td').text.strip() if humidity_elem else ''\n",
    "    wind_speed_elem = soup.find('td', text='Wind Speed')\n",
    "    wind_speed = wind_speed_elem.find_next('td').text.strip() if wind_speed_elem else ''\n",
    "    barometer_elem = soup.find('td', text='Barometer')\n",
    "    barometer = barometer_elem.find_next('td').text.strip() if barometer_elem else ''\n",
    "    dewpoint_elem = soup.find('td', text='Dewpoint')\n",
    "    dewpoint = dewpoint_elem.find_next('td').text.strip() if dewpoint_elem else ''\n",
    "    visibility_elem = soup.find('td', text='Visibility')\n",
    "    visibility = visibility_elem.find_next('td').text.strip() if visibility_elem else ''\n",
    "    wind_chill_elem = soup.find('td', text='Wind Chill')\n",
    "    wind_chill = wind_chill_elem.find_next('td').text.strip() if wind_chill_elem else ''\n",
    "    last_update_elem = soup.find('td', text='Last update')\n",
    "    last_update = last_update_elem.find_next('td').text.strip() if last_update_elem else ''\n",
    "\n",
    "    print({\n",
    "        'Name': city['Name'],\n",
    "        'Lat': lat + '°N',\n",
    "        'Lon': lon + '°W',\n",
    "        'Elev': elev + 'ft.',\n",
    "        'Temperature': temperature.text if temperature else '',\n",
    "        'Humidity': humidity,\n",
    "        'Wind Speed': wind_speed,\n",
    "        'Barometer': barometer,\n",
    "        'Dewpoint': dewpoint,\n",
    "        'Visibility': visibility,\n",
    "        'Wind Chill': wind_chill,\n",
    "        'Last update': last_update\n",
    "    })"
   ]
  }
 ],
 "metadata": {
  "kernelspec": {
   "display_name": "venvteamweek",
   "language": "python",
   "name": "python3"
  },
  "language_info": {
   "codemirror_mode": {
    "name": "ipython",
    "version": 3
   },
   "file_extension": ".py",
   "mimetype": "text/x-python",
   "name": "python",
   "nbconvert_exporter": "python",
   "pygments_lexer": "ipython3",
   "version": "3.7.16"
  },
  "orig_nbformat": 4,
  "vscode": {
   "interpreter": {
    "hash": "64f1797d79808f14d598c5f30a1ca999dfbd9d993cbdead7665531518a83cdf2"
   }
  }
 },
 "nbformat": 4,
 "nbformat_minor": 2
}
