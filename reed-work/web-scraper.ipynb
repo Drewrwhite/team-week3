{
 "cells": [
  {
   "cell_type": "code",
   "execution_count": 97,
   "metadata": {},
   "outputs": [],
   "source": [
    "import requests\n",
    "from bs4 import BeautifulSoup\n",
    "import pandas as pd\n",
    "import re"
   ]
  },
  {
   "cell_type": "code",
   "execution_count": 110,
   "metadata": {},
   "outputs": [
    {
     "data": {
      "text/html": [
       "<div>\n",
       "<style scoped>\n",
       "    .dataframe tbody tr th:only-of-type {\n",
       "        vertical-align: middle;\n",
       "    }\n",
       "\n",
       "    .dataframe tbody tr th {\n",
       "        vertical-align: top;\n",
       "    }\n",
       "\n",
       "    .dataframe thead th {\n",
       "        text-align: right;\n",
       "    }\n",
       "</style>\n",
       "<table border=\"1\" class=\"dataframe\">\n",
       "  <thead>\n",
       "    <tr style=\"text-align: right;\">\n",
       "      <th></th>\n",
       "      <th>Temperature_F</th>\n",
       "      <th>Temperature_C</th>\n",
       "      <th>Barometer</th>\n",
       "      <th>Dewpoint</th>\n",
       "      <th>Humidity</th>\n",
       "      <th>Last update</th>\n",
       "      <th>Visibility</th>\n",
       "      <th>Wind Chill</th>\n",
       "      <th>Wind Speed</th>\n",
       "      <th>elevation_ft</th>\n",
       "      <th>latitude</th>\n",
       "      <th>longitude</th>\n",
       "      <th>location</th>\n",
       "    </tr>\n",
       "  </thead>\n",
       "  <tbody>\n",
       "    <tr>\n",
       "      <th>0</th>\n",
       "      <td>50°F</td>\n",
       "      <td>10°C</td>\n",
       "      <td>29.87 in (1011.9 mb)</td>\n",
       "      <td>18°F (-8°C)</td>\n",
       "      <td>28%</td>\n",
       "      <td>13 Feb 4:53 pm CST</td>\n",
       "      <td>10.00 mi</td>\n",
       "      <td>46°F (8°C)</td>\n",
       "      <td>W 9 mph</td>\n",
       "      <td>617</td>\n",
       "      <td>41.78</td>\n",
       "      <td>87.76</td>\n",
       "      <td>Chicago, Chicago Midway Airport (KMDW)</td>\n",
       "    </tr>\n",
       "  </tbody>\n",
       "</table>\n",
       "</div>"
      ],
      "text/plain": [
       "  Temperature_F Temperature_C             Barometer     Dewpoint Humidity  \\\n",
       "0          50°F          10°C  29.87 in (1011.9 mb)  18°F (-8°C)      28%   \n",
       "\n",
       "          Last update Visibility  Wind Chill Wind Speed elevation_ft latitude  \\\n",
       "0  13 Feb 4:53 pm CST   10.00 mi  46°F (8°C)    W 9 mph          617    41.78   \n",
       "\n",
       "  longitude                                location  \n",
       "0     87.76  Chicago, Chicago Midway Airport (KMDW)  "
      ]
     },
     "metadata": {},
     "output_type": "display_data"
    }
   ],
   "source": [
    "#-------------------Extract-------------------------\n",
    "\n",
    "url = \"https://forecast.weather.gov/MapClick.php?lat=41.884250000000065&lon=-87.63244999999995#.Y-q4ltLMJkj\"\n",
    "r = requests.get(url)\n",
    "\n",
    "soup = BeautifulSoup(r.content,\"html.parser\")\n",
    "\n",
    "#various containers\n",
    "item1 = soup.find_all(id='current_conditions-summary')\n",
    "item2 = soup.find_all(id='current_conditions_detail')\n",
    "\n",
    "#raw data\n",
    "temp_f = [item.find(class_=\"myforecast-current-lrg\").get_text() for item in item1]\n",
    "temp_c = [item.find(class_=\"myforecast-current-sm\").get_text() for item in item1]\n",
    "\n",
    "#df of temperatures\n",
    "df_temp = pd.DataFrame({\"Temperature_F\" : temp_f, \"Temperature_C\": temp_c})\n",
    "\n",
    "#df_2 is a df of current conditions in detail\n",
    "table = soup.find_all('table')\n",
    "df_2 = pd.read_html(str(table))[0]\n",
    "df_2 = df_2.pivot(columns=0, values=1).ffill().dropna().reset_index().drop(columns=['index'])\n",
    "\n",
    "#merge both dataframes\n",
    "source_df=pd.concat([df_temp,df_2],axis=1)\n",
    "\n",
    "#scrape lattitude, longitude, and elevation \n",
    "lat_lon_elev = soup.find('span', {'class': 'smallTxt'}).text.strip()\n",
    "lat, lon, elev = re.findall(r'[-+]?\\d*\\.\\d+|\\d+', lat_lon_elev)\n",
    "\n",
    "#scrape name\n",
    "location = soup.find('h2', {'class': 'panel-title'}).text.strip()\n",
    "\n",
    "#add location, lat, long, and elev to source_df\n",
    "source_df['elevation_ft'] = elev\n",
    "source_df['latitude'] = lat\n",
    "source_df['longitude'] = lon\n",
    "source_df['location'] = location\n",
    "\n",
    "\n",
    "display(source_df)\n",
    "\n"
   ]
  },
  {
   "cell_type": "code",
   "execution_count": null,
   "metadata": {},
   "outputs": [],
   "source": [
    "#-------------Transform------------------------\n"
   ]
  }
 ],
 "metadata": {
  "kernelspec": {
   "display_name": "venvteamweek",
   "language": "python",
   "name": "python3"
  },
  "language_info": {
   "codemirror_mode": {
    "name": "ipython",
    "version": 3
   },
   "file_extension": ".py",
   "mimetype": "text/x-python",
   "name": "python",
   "nbconvert_exporter": "python",
   "pygments_lexer": "ipython3",
   "version": "3.7.16"
  },
  "orig_nbformat": 4,
  "vscode": {
   "interpreter": {
    "hash": "64f1797d79808f14d598c5f30a1ca999dfbd9d993cbdead7665531518a83cdf2"
   }
  }
 },
 "nbformat": 4,
 "nbformat_minor": 2
}
