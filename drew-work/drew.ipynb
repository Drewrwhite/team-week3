{
 "cells": [
  {
   "cell_type": "code",
   "execution_count": 107,
   "metadata": {},
   "outputs": [
    {
     "name": "stderr",
     "output_type": "stream",
     "text": [
      "/Users/drewwhite/Desktop/Epicodus/team-week3/venv/lib/python3.7/site-packages/ipykernel_launcher.py:21: DeprecationWarning: The 'text' argument to find()-type methods is deprecated. Use 'string' instead.\n",
      "/Users/drewwhite/Desktop/Epicodus/team-week3/venv/lib/python3.7/site-packages/ipykernel_launcher.py:23: DeprecationWarning: The 'text' argument to find()-type methods is deprecated. Use 'string' instead.\n",
      "/Users/drewwhite/Desktop/Epicodus/team-week3/venv/lib/python3.7/site-packages/ipykernel_launcher.py:25: DeprecationWarning: The 'text' argument to find()-type methods is deprecated. Use 'string' instead.\n",
      "/Users/drewwhite/Desktop/Epicodus/team-week3/venv/lib/python3.7/site-packages/ipykernel_launcher.py:27: DeprecationWarning: The 'text' argument to find()-type methods is deprecated. Use 'string' instead.\n",
      "/Users/drewwhite/Desktop/Epicodus/team-week3/venv/lib/python3.7/site-packages/ipykernel_launcher.py:29: DeprecationWarning: The 'text' argument to find()-type methods is deprecated. Use 'string' instead.\n",
      "/Users/drewwhite/Desktop/Epicodus/team-week3/venv/lib/python3.7/site-packages/ipykernel_launcher.py:31: DeprecationWarning: The 'text' argument to find()-type methods is deprecated. Use 'string' instead.\n",
      "/Users/drewwhite/Desktop/Epicodus/team-week3/venv/lib/python3.7/site-packages/ipykernel_launcher.py:33: DeprecationWarning: The 'text' argument to find()-type methods is deprecated. Use 'string' instead.\n"
     ]
    },
    {
     "name": "stdout",
     "output_type": "stream",
     "text": [
      "        location       lat        lon elev_ft temperature humidity  \\\n",
      "0   Portland, OR  45.59578  122.60917      20        36°F      86%   \n",
      "1  San Diego, CA  32.73361  117.18306      13        57°F      67%   \n",
      "2     Duluth, MN     46.72      92.04     607        34°F      93%   \n",
      "\n",
      "   wind_speed              barometer    dewpoint vis_miles   wind_chill  \\\n",
      "0     N 0 MPH  30.05 in (1017.61 mb)  32°F (0°C)  10.00 mi           NA   \n",
      "1  WSW 16 MPH   30.0 in (1015.92 mb)  46°F (8°C)  10.00 mi           NA   \n",
      "2   NE 10 mph               29.46 in  32°F (0°C)  10.00 mi  26°F (-3°C)   \n",
      "\n",
      "           last_update  \n",
      "0  14 Feb 08:20 AM PST  \n",
      "1  14 Feb 08:20 AM PST  \n",
      "2  14 Feb 11:55 am CST  \n"
     ]
    }
   ],
   "source": [
    "import requests\n",
    "from bs4 import BeautifulSoup\n",
    "import re\n",
    "import pandas as pd\n",
    "from datetime import datetime\n",
    "import dateutil\n",
    "\n",
    "with open('cities.json') as f:\n",
    "    cities = json.load(f)\n",
    "\n",
    "data = []\n",
    "\n",
    "for city in cities:\n",
    "    response = requests.get(city['NWS_URL'])\n",
    "    soup = BeautifulSoup(response.content, 'html.parser')\n",
    "\n",
    "    location = soup.find('h2', {'class': 'panel-title'})\n",
    "    lat_lon_elev = soup.find('span', {'class': 'smallTxt'}).text.strip()\n",
    "    lat, lon, elev = re.findall(r'[-+]?\\d*\\.\\d+|\\d+', lat_lon_elev)\n",
    "    temperature = soup.find('p', {'class': 'myforecast-current-lrg'})\n",
    "    humidity_elem = soup.find('td', text='Humidity')\n",
    "    humidity = humidity_elem.find_next('td').text.strip() if humidity_elem else 'NA'\n",
    "    wind_speed_elem = soup.find('td', text='Wind Speed')\n",
    "    wind_speed = wind_speed_elem.find_next('td').text.strip() if wind_speed_elem else 'NA'\n",
    "    barometer_elem = soup.find('td', text='Barometer')\n",
    "    barometer = barometer_elem.find_next('td').text.strip() if barometer_elem else 'NA'\n",
    "    dewpoint_elem = soup.find('td', text='Dewpoint')\n",
    "    dewpoint = dewpoint_elem.find_next('td').text.strip() if dewpoint_elem else 'NA'\n",
    "    visibility_elem = soup.find('td', text='Visibility')\n",
    "    visibility = visibility_elem.find_next('td').text.strip() if visibility_elem else 'NA'\n",
    "    wind_chill_elem = soup.find('td', text='Wind Chill')\n",
    "    wind_chill = wind_chill_elem.find_next('td').text.strip() if wind_chill_elem else 'NA'\n",
    "    last_update_elem = soup.find('td', text='Last update')\n",
    "    last_update = last_update_elem.find_next('td').text.strip() if last_update_elem else 'NA'\n",
    "\n",
    "    data.append({\n",
    "        'location': city['Name'],\n",
    "        'lat': lat,\n",
    "        'lon': lon,\n",
    "        'elev_ft': elev,\n",
    "        'temperature': temperature.text if temperature else 'NA',\n",
    "        'humidity': humidity,\n",
    "        'wind_speed': wind_speed,\n",
    "        'barometer': barometer,\n",
    "        'dewpoint': dewpoint,\n",
    "        'vis_miles': visibility,\n",
    "        'wind_chill': wind_chill,\n",
    "        'last_update': last_update\n",
    "    })\n",
    "\n",
    "df = pd.DataFrame(data)\n",
    "print(df)\n"
   ]
  },
  {
   "cell_type": "code",
   "execution_count": 108,
   "metadata": {},
   "outputs": [
    {
     "data": {
      "text/plain": [
       "location       object\n",
       "lat            object\n",
       "lon            object\n",
       "elev_ft        object\n",
       "temperature    object\n",
       "humidity       object\n",
       "wind_speed     object\n",
       "barometer      object\n",
       "dewpoint       object\n",
       "vis_miles      object\n",
       "wind_chill     object\n",
       "last_update    object\n",
       "dtype: object"
      ]
     },
     "execution_count": 108,
     "metadata": {},
     "output_type": "execute_result"
    }
   ],
   "source": [
    "df.dtypes"
   ]
  },
  {
   "cell_type": "code",
   "execution_count": 109,
   "metadata": {},
   "outputs": [
    {
     "name": "stdout",
     "output_type": "stream",
     "text": [
      "        location       lat        lon elev_ft temperature humidity  \\\n",
      "0   Portland, OR  45.59578  122.60917      20        36°F      86%   \n",
      "1  San Diego, CA  32.73361  117.18306      13        57°F      67%   \n",
      "2     Duluth, MN     46.72      92.04     607        34°F      93%   \n",
      "\n",
      "   wind_speed              barometer    dewpoint vis_miles   wind_chill  \\\n",
      "0     N 0 MPH  30.05 in (1017.61 mb)  32°F (0°C)  10.00 mi           NA   \n",
      "1  WSW 16 MPH   30.0 in (1015.92 mb)  46°F (8°C)  10.00 mi           NA   \n",
      "2   NE 10 mph               29.46 in  32°F (0°C)  10.00 mi  26°F (-3°C)   \n",
      "\n",
      "           last_update       city state  \n",
      "0  14 Feb 08:20 AM PST   Portland    OR  \n",
      "1  14 Feb 08:20 AM PST  San Diego    CA  \n",
      "2  14 Feb 11:55 am CST     Duluth    MN  \n"
     ]
    }
   ],
   "source": [
    "# Split the 'location' column into separate 'city' and 'state' columns\n",
    "df[['city', 'state']] = df['location'].str.split(', ', expand=True)\n",
    "\n",
    "print(df)"
   ]
  },
  {
   "cell_type": "code",
   "execution_count": 110,
   "metadata": {},
   "outputs": [
    {
     "name": "stdout",
     "output_type": "stream",
     "text": [
      "        location       lat        lon  elev_ft temperature humidity  \\\n",
      "0   Portland, OR  45.59578  122.60917       20        36°F      86%   \n",
      "1  San Diego, CA  32.73361  117.18306       13        57°F      67%   \n",
      "2     Duluth, MN  46.72000   92.04000      607        34°F      93%   \n",
      "\n",
      "   wind_speed              barometer    dewpoint vis_miles   wind_chill  \\\n",
      "0     N 0 MPH  30.05 in (1017.61 mb)  32°F (0°C)  10.00 mi           NA   \n",
      "1  WSW 16 MPH   30.0 in (1015.92 mb)  46°F (8°C)  10.00 mi           NA   \n",
      "2   NE 10 mph               29.46 in  32°F (0°C)  10.00 mi  26°F (-3°C)   \n",
      "\n",
      "           last_update       city state  \n",
      "0  14 Feb 08:20 AM PST   Portland    OR  \n",
      "1  14 Feb 08:20 AM PST  San Diego    CA  \n",
      "2  14 Feb 11:55 am CST     Duluth    MN  \n"
     ]
    }
   ],
   "source": [
    "# Convert 'lat' and 'lon' columns to float type\n",
    "df[['lat', 'lon']] = df[['lat', 'lon']].astype(float)\n",
    "\n",
    "# Convert 'elev' column to int type\n",
    "df['elev_ft'] = df['elev_ft'].astype(int)\n",
    "print(df)"
   ]
  },
  {
   "cell_type": "code",
   "execution_count": 111,
   "metadata": {},
   "outputs": [
    {
     "name": "stdout",
     "output_type": "stream",
     "text": [
      "        location       lat        lon  elev_ft temperature humidity  \\\n",
      "0   Portland, OR  45.59578  122.60917       20        36°F      86%   \n",
      "1  San Diego, CA  32.73361  117.18306       13        57°F      67%   \n",
      "2     Duluth, MN  46.72000   92.04000      607        34°F      93%   \n",
      "\n",
      "   wind_speed              barometer    dewpoint vis_miles   wind_chill  \\\n",
      "0     N 0 MPH  30.05 in (1017.61 mb)  32°F (0°C)  10.00 mi           NA   \n",
      "1  WSW 16 MPH   30.0 in (1015.92 mb)  46°F (8°C)  10.00 mi           NA   \n",
      "2   NE 10 mph               29.46 in  32°F (0°C)  10.00 mi  26°F (-3°C)   \n",
      "\n",
      "           last_update       city state  temp_f  temp_c  \n",
      "0  14 Feb 08:20 AM PST   Portland    OR      36       2  \n",
      "1  14 Feb 08:20 AM PST  San Diego    CA      57      14  \n",
      "2  14 Feb 11:55 am CST     Duluth    MN      34       1  \n"
     ]
    }
   ],
   "source": [
    "# Extract the numeric part of the temperature string and convert it to int\n",
    "df['temp_f'] = df['temperature'].str.extract('(\\d+)').astype(int)\n",
    "\n",
    "# Convert temperature to Celsius and add to new column 'temp_c'\n",
    "df['temp_c'] = (df['temp_f'] - 32) * 5/9\n",
    "\n",
    "# Round 'temp_c' to nearest integer and cast to int type\n",
    "df['temp_c'] = df['temp_c'].round().astype(int)\n",
    "print(df)"
   ]
  },
  {
   "cell_type": "code",
   "execution_count": 112,
   "metadata": {},
   "outputs": [
    {
     "name": "stdout",
     "output_type": "stream",
     "text": [
      "        location       lat        lon  elev_ft temperature  humidity  \\\n",
      "0   Portland, OR  45.59578  122.60917       20        36°F      0.86   \n",
      "1  San Diego, CA  32.73361  117.18306       13        57°F      0.67   \n",
      "2     Duluth, MN  46.72000   92.04000      607        34°F      0.93   \n",
      "\n",
      "   wind_speed              barometer    dewpoint vis_miles   wind_chill  \\\n",
      "0     N 0 MPH  30.05 in (1017.61 mb)  32°F (0°C)  10.00 mi           NA   \n",
      "1  WSW 16 MPH   30.0 in (1015.92 mb)  46°F (8°C)  10.00 mi           NA   \n",
      "2   NE 10 mph               29.46 in  32°F (0°C)  10.00 mi  26°F (-3°C)   \n",
      "\n",
      "           last_update       city state  temp_f  temp_c  \n",
      "0  14 Feb 08:20 AM PST   Portland    OR      36       2  \n",
      "1  14 Feb 08:20 AM PST  San Diego    CA      57      14  \n",
      "2  14 Feb 11:55 am CST     Duluth    MN      34       1  \n"
     ]
    }
   ],
   "source": [
    "# Convert 'humidity' column to float type\n",
    "df['humidity'] = df['humidity'].str.extract('(\\d+)', expand=False).astype(float) / 100\n",
    "\n",
    "print(df)"
   ]
  },
  {
   "cell_type": "code",
   "execution_count": 113,
   "metadata": {},
   "outputs": [
    {
     "name": "stdout",
     "output_type": "stream",
     "text": [
      "        location       lat        lon  elev_ft temperature  humidity  \\\n",
      "0   Portland, OR  45.59578  122.60917       20        36°F      0.86   \n",
      "1  San Diego, CA  32.73361  117.18306       13        57°F      0.67   \n",
      "2     Duluth, MN  46.72000   92.04000      607        34°F      0.93   \n",
      "\n",
      "   wind_speed              barometer    dewpoint vis_miles   wind_chill  \\\n",
      "0           0  30.05 in (1017.61 mb)  32°F (0°C)  10.00 mi           NA   \n",
      "1          16   30.0 in (1015.92 mb)  46°F (8°C)  10.00 mi           NA   \n",
      "2          10               29.46 in  32°F (0°C)  10.00 mi  26°F (-3°C)   \n",
      "\n",
      "           last_update       city state  temp_f  temp_c  \n",
      "0  14 Feb 08:20 AM PST   Portland    OR      36       2  \n",
      "1  14 Feb 08:20 AM PST  San Diego    CA      57      14  \n",
      "2  14 Feb 11:55 am CST     Duluth    MN      34       1  \n"
     ]
    }
   ],
   "source": [
    "# Split wind speed values into components and convert speed to int type\n",
    "df['wind_speed'] = df['wind_speed'].str.extract('(\\d+)', expand=False).fillna(0).astype(int)\n",
    "\n",
    "# Set any missing or non-numeric wind speed values to 0\n",
    "df['wind_speed'] = df['wind_speed'].replace('Calm', 0)\n",
    "\n",
    "print(df)"
   ]
  },
  {
   "cell_type": "code",
   "execution_count": 114,
   "metadata": {},
   "outputs": [
    {
     "name": "stdout",
     "output_type": "stream",
     "text": [
      "        location       lat        lon  elev_ft temperature  humidity  \\\n",
      "0   Portland, OR  45.59578  122.60917       20        36°F      0.86   \n",
      "1  San Diego, CA  32.73361  117.18306       13        57°F      0.67   \n",
      "2     Duluth, MN  46.72000   92.04000      607        34°F      0.93   \n",
      "\n",
      "   wind_speed  barometer    dewpoint vis_miles   wind_chill  \\\n",
      "0           0    1017.61  32°F (0°C)  10.00 mi           NA   \n",
      "1          16    1015.92  46°F (8°C)  10.00 mi           NA   \n",
      "2          10     997.63  32°F (0°C)  10.00 mi  26°F (-3°C)   \n",
      "\n",
      "           last_update       city state  temp_f  temp_c  \n",
      "0  14 Feb 08:20 AM PST   Portland    OR      36       2  \n",
      "1  14 Feb 08:20 AM PST  San Diego    CA      57      14  \n",
      "2  14 Feb 11:55 am CST     Duluth    MN      34       1  \n"
     ]
    }
   ],
   "source": [
    "# Convert 'barometer' column to float type, and convert inches to millibars\n",
    "df['barometer'] = df['barometer'].apply(lambda x: float(x.split()[0]) * 33.8639 if 'in' in x else float(x.split()[0]))\n",
    "\n",
    "# Round 'barometer' to two decimal places\n",
    "df['barometer'] = df['barometer'].round(2)\n",
    "\n",
    "print(df)"
   ]
  },
  {
   "cell_type": "code",
   "execution_count": 115,
   "metadata": {},
   "outputs": [
    {
     "name": "stdout",
     "output_type": "stream",
     "text": [
      "        location       lat        lon  elev_ft temperature  humidity  \\\n",
      "0   Portland, OR  45.59578  122.60917       20        36°F      0.86   \n",
      "1  San Diego, CA  32.73361  117.18306       13        57°F      0.67   \n",
      "2     Duluth, MN  46.72000   92.04000      607        34°F      0.93   \n",
      "\n",
      "   wind_speed  barometer    dewpoint vis_miles   wind_chill  \\\n",
      "0           0    1017.61  32°F (0°C)  10.00 mi           NA   \n",
      "1          16    1015.92  46°F (8°C)  10.00 mi           NA   \n",
      "2          10     997.63  32°F (0°C)  10.00 mi  26°F (-3°C)   \n",
      "\n",
      "           last_update       city state  temp_f  temp_c  dewpoint_f  \\\n",
      "0  14 Feb 08:20 AM PST   Portland    OR      36       2          32   \n",
      "1  14 Feb 08:20 AM PST  San Diego    CA      57      14          46   \n",
      "2  14 Feb 11:55 am CST     Duluth    MN      34       1          32   \n",
      "\n",
      "   dewpoint_c  \n",
      "0           0  \n",
      "1           8  \n",
      "2           0  \n"
     ]
    }
   ],
   "source": [
    "# Split 'dewpoint' column into separate 'dewpoint_f' and 'dewpoint_c' columns\n",
    "df[['dewpoint_f', 'dewpoint_c']] = df['dewpoint'].str.extract('(\\d+).*?(\\d+)', expand=True).astype(int)\n",
    "\n",
    "print(df)"
   ]
  },
  {
   "cell_type": "code",
   "execution_count": 116,
   "metadata": {},
   "outputs": [
    {
     "name": "stdout",
     "output_type": "stream",
     "text": [
      "        location       lat        lon  elev_ft temperature  humidity  \\\n",
      "0   Portland, OR  45.59578  122.60917       20        36°F      0.86   \n",
      "1  San Diego, CA  32.73361  117.18306       13        57°F      0.67   \n",
      "2     Duluth, MN  46.72000   92.04000      607        34°F      0.93   \n",
      "\n",
      "   wind_speed  barometer    dewpoint  vis_miles   wind_chill  \\\n",
      "0           0    1017.61  32°F (0°C)       10.0           NA   \n",
      "1          16    1015.92  46°F (8°C)       10.0           NA   \n",
      "2          10     997.63  32°F (0°C)       10.0  26°F (-3°C)   \n",
      "\n",
      "           last_update       city state  temp_f  temp_c  dewpoint_f  \\\n",
      "0  14 Feb 08:20 AM PST   Portland    OR      36       2          32   \n",
      "1  14 Feb 08:20 AM PST  San Diego    CA      57      14          46   \n",
      "2  14 Feb 11:55 am CST     Duluth    MN      34       1          32   \n",
      "\n",
      "   dewpoint_c  \n",
      "0           0  \n",
      "1           8  \n",
      "2           0  \n"
     ]
    }
   ],
   "source": [
    "# Convert 'vis_miles' column to float type\n",
    "df['vis_miles'] = df['vis_miles'].str.extract('(\\d+\\.\\d+|\\d+)', expand=False).astype(float).round(2)\n",
    "\n",
    "print(df)"
   ]
  },
  {
   "cell_type": "code",
   "execution_count": 117,
   "metadata": {},
   "outputs": [
    {
     "name": "stdout",
     "output_type": "stream",
     "text": [
      "        location       lat        lon  elev_ft temperature  humidity  \\\n",
      "0   Portland, OR  45.59578  122.60917       20        36°F      0.86   \n",
      "1  San Diego, CA  32.73361  117.18306       13        57°F      0.67   \n",
      "2     Duluth, MN  46.72000   92.04000      607        34°F      0.93   \n",
      "\n",
      "   wind_speed  barometer    dewpoint  vis_miles   wind_chill  \\\n",
      "0           0    1017.61  32°F (0°C)       10.0           NA   \n",
      "1          16    1015.92  46°F (8°C)       10.0           NA   \n",
      "2          10     997.63  32°F (0°C)       10.0  26°F (-3°C)   \n",
      "\n",
      "           last_update       city state  temp_f  temp_c  dewpoint_f  \\\n",
      "0  14 Feb 08:20 AM PST   Portland    OR      36       2          32   \n",
      "1  14 Feb 08:20 AM PST  San Diego    CA      57      14          46   \n",
      "2  14 Feb 11:55 am CST     Duluth    MN      34       1          32   \n",
      "\n",
      "   dewpoint_c  wind_chill_f  wind_chill_c  \n",
      "0           0           NaN           NaN  \n",
      "1           8           NaN           NaN  \n",
      "2           0          26.0           3.0  \n"
     ]
    }
   ],
   "source": [
    "# Split 'wind_chill' column into separate 'wind_chill_f' and 'wind_chill_c' columns\n",
    "df[['wind_chill_f', 'wind_chill_c']] = df['wind_chill'].str.extract('(\\d+).*?(\\d+)', expand=True).astype(float)\n",
    "\n",
    "print(df)"
   ]
  },
  {
   "cell_type": "code",
   "execution_count": 118,
   "metadata": {},
   "outputs": [
    {
     "name": "stdout",
     "output_type": "stream",
     "text": [
      "        location       lat        lon  elev_ft temperature  humidity  \\\n",
      "0   Portland, OR  45.59578  122.60917       20        36°F      0.86   \n",
      "1  San Diego, CA  32.73361  117.18306       13        57°F      0.67   \n",
      "2     Duluth, MN  46.72000   92.04000      607        34°F      0.93   \n",
      "\n",
      "   wind_speed  barometer    dewpoint  vis_miles   wind_chill  \\\n",
      "0           0    1017.61  32°F (0°C)       10.0           NA   \n",
      "1          16    1015.92  46°F (8°C)       10.0           NA   \n",
      "2          10     997.63  32°F (0°C)       10.0  26°F (-3°C)   \n",
      "\n",
      "                last_update       city state  temp_f  temp_c  dewpoint_f  \\\n",
      "0 2023-02-14 16:20:00+00:00   Portland    OR      36       2          32   \n",
      "1 2023-02-14 16:20:00+00:00  San Diego    CA      57      14          46   \n",
      "2 2023-02-14 17:55:00+00:00     Duluth    MN      34       1          32   \n",
      "\n",
      "   dewpoint_c  wind_chill_f  wind_chill_c  \n",
      "0           0           NaN           NaN  \n",
      "1           8           NaN           NaN  \n",
      "2           0          26.0           3.0  \n"
     ]
    }
   ],
   "source": [
    "# Convert 'last_update' column to datetime type with the desired format and time zone\n",
    "df['last_update'] = df['last_update'].apply(lambda x: dateutil.parser.parse(x, tzinfos={'CST': dateutil.tz.tzoffset(None, -21600)}))\n",
    "\n",
    "# Convert 'last_update' column to UTC\n",
    "df['last_update'] = df['last_update'].apply(lambda x: x.astimezone(dateutil.tz.tzutc()))\n",
    "\n",
    "print(df)"
   ]
  },
  {
   "cell_type": "code",
   "execution_count": 119,
   "metadata": {},
   "outputs": [
    {
     "name": "stdout",
     "output_type": "stream",
     "text": [
      "        location       lat        lon  elev_ft  humidity  wind_speed  \\\n",
      "0   Portland, OR  45.59578  122.60917       20      0.86           0   \n",
      "1  San Diego, CA  32.73361  117.18306       13      0.67          16   \n",
      "2     Duluth, MN  46.72000   92.04000      607      0.93          10   \n",
      "\n",
      "   barometer  vis_miles               last_update       city state  temp_f  \\\n",
      "0    1017.61       10.0 2023-02-14 16:20:00+00:00   Portland    OR      36   \n",
      "1    1015.92       10.0 2023-02-14 16:20:00+00:00  San Diego    CA      57   \n",
      "2     997.63       10.0 2023-02-14 17:55:00+00:00     Duluth    MN      34   \n",
      "\n",
      "   temp_c  dewpoint_f  dewpoint_c  wind_chill_f  wind_chill_c  \n",
      "0       2          32           0           NaN           NaN  \n",
      "1      14          46           8           NaN           NaN  \n",
      "2       1          32           0          26.0           3.0  \n"
     ]
    }
   ],
   "source": [
    "# Drop columns that were split into two values\n",
    "df = df.drop(['temperature', 'dewpoint', 'wind_chill'], axis=1)\n",
    "\n",
    "print(df)"
   ]
  },
  {
   "cell_type": "code",
   "execution_count": 123,
   "metadata": {},
   "outputs": [
    {
     "name": "stdout",
     "output_type": "stream",
     "text": [
      "        location       city state       lat        lon  elev_ft  temp_f  \\\n",
      "0   Portland, OR   Portland    OR  45.59578  122.60917       20      36   \n",
      "1  San Diego, CA  San Diego    CA  32.73361  117.18306       13      57   \n",
      "2     Duluth, MN     Duluth    MN  46.72000   92.04000      607      34   \n",
      "\n",
      "   temp_c  humidity  wind_speed  barometer  vis_miles  dewpoint_f  dewpoint_c  \\\n",
      "0       2      0.86           0    1017.61       10.0          32           0   \n",
      "1      14      0.67          16    1015.92       10.0          46           8   \n",
      "2       1      0.93          10     997.63       10.0          32           0   \n",
      "\n",
      "   wind_chill_f  wind_chill_c               last_update  \n",
      "0           NaN           NaN 2023-02-14 16:20:00+00:00  \n",
      "1           NaN           NaN 2023-02-14 16:20:00+00:00  \n",
      "2          26.0           3.0 2023-02-14 17:55:00+00:00  \n"
     ]
    }
   ],
   "source": [
    "# Move 'city' and 'state' columns after 'location' column\n",
    "city = df.pop('city')\n",
    "state = df.pop('state')\n",
    "temp_f = df.pop('temp_f')\n",
    "temp_c = df.pop('temp_c')\n",
    "df.insert(1, 'city', city)\n",
    "df.insert(2, 'state', state)\n",
    "df.insert(6, 'temp_f', temp_f)\n",
    "df.insert(7, 'temp_c', temp_c)\n",
    "\n",
    "# Move 'last_update' column to last position\n",
    "last_update = df.pop('last_update')\n",
    "df['last_update'] = last_update\n",
    "\n",
    "\n",
    "print(df)"
   ]
  }
 ],
 "metadata": {
  "kernelspec": {
   "display_name": "venv",
   "language": "python",
   "name": "python3"
  },
  "language_info": {
   "codemirror_mode": {
    "name": "ipython",
    "version": 3
   },
   "file_extension": ".py",
   "mimetype": "text/x-python",
   "name": "python",
   "nbconvert_exporter": "python",
   "pygments_lexer": "ipython3",
   "version": "3.7.16"
  },
  "orig_nbformat": 4,
  "vscode": {
   "interpreter": {
    "hash": "51350c9371c2ae5e4fc537f59a20b1e199e08343f95973e53e327f646c8673a4"
   }
  }
 },
 "nbformat": 4,
 "nbformat_minor": 2
}
