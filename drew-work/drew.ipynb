{
 "cells": [
  {
   "cell_type": "code",
   "execution_count": null,
   "metadata": {},
   "outputs": [],
   "source": [
    "import requests\n",
    "from bs4 import BeautifulSoup\n",
    "import re\n",
    "import pandas as pd\n",
    "from datetime import datetime\n",
    "import dateutil\n",
    "\n",
    "with open('cities.json') as f:\n",
    "    cities = json.load(f)\n",
    "\n",
    "data = []\n",
    "\n",
    "for city in cities:\n",
    "    response = requests.get(city['NWS_URL'])\n",
    "    soup = BeautifulSoup(response.content, 'html.parser')\n",
    "\n",
    "    location = soup.find('h2', {'class': 'panel-title'})\n",
    "    lat_lon_elev = soup.find('span', {'class': 'smallTxt'}).text.strip()\n",
    "    lat, lon, elev = re.findall(r'[-+]?\\d*\\.\\d+|\\d+', lat_lon_elev)\n",
    "    temperature = soup.find('p', {'class': 'myforecast-current-lrg'})\n",
    "    humidity_elem = soup.find('td', text='Humidity')\n",
    "    humidity = humidity_elem.find_next('td').text.strip() if humidity_elem else 'NA'\n",
    "    wind_speed_elem = soup.find('td', text='Wind Speed')\n",
    "    wind_speed = wind_speed_elem.find_next('td').text.strip() if wind_speed_elem else 'NA'\n",
    "    barometer_elem = soup.find('td', text='Barometer')\n",
    "    barometer = barometer_elem.find_next('td').text.strip() if barometer_elem else 'NA'\n",
    "    dewpoint_elem = soup.find('td', text='Dewpoint')\n",
    "    dewpoint = dewpoint_elem.find_next('td').text.strip() if dewpoint_elem else 'NA'\n",
    "    visibility_elem = soup.find('td', text='Visibility')\n",
    "    visibility = visibility_elem.find_next('td').text.strip() if visibility_elem else 'NA'\n",
    "    wind_chill_elem = soup.find('td', text='Wind Chill')\n",
    "    wind_chill = wind_chill_elem.find_next('td').text.strip() if wind_chill_elem else 'NA'\n",
    "    last_update_elem = soup.find('td', text='Last update')\n",
    "    last_update = last_update_elem.find_next('td').text.strip() if last_update_elem else 'NA'\n",
    "\n",
    "    data.append({\n",
    "        'location': city['Name'],\n",
    "        'lat': lat,\n",
    "        'lon': lon,\n",
    "        'elev_ft': elev,\n",
    "        'temperature': temperature.text if temperature else 'NA',\n",
    "        'humidity': humidity,\n",
    "        'wind_speed': wind_speed,\n",
    "        'barometer': barometer,\n",
    "        'dewpoint': dewpoint,\n",
    "        'vis_miles': visibility,\n",
    "        'wind_chill': wind_chill,\n",
    "        'last_update': last_update\n",
    "    })\n",
    "\n",
    "df = pd.DataFrame(data)\n",
    "print(df)\n"
   ]
  },
  {
   "cell_type": "code",
   "execution_count": null,
   "metadata": {},
   "outputs": [],
   "source": [
    "df.dtypes"
   ]
  },
  {
   "cell_type": "code",
   "execution_count": null,
   "metadata": {},
   "outputs": [],
   "source": [
    "# Split the 'location' column into separate 'city' and 'state' columns\n",
    "df[['city', 'state']] = df['location'].str.split(', ', expand=True)\n",
    "\n",
    "print(df)"
   ]
  },
  {
   "cell_type": "code",
   "execution_count": null,
   "metadata": {},
   "outputs": [],
   "source": [
    "# Convert 'lat' and 'lon' columns to float type\n",
    "df[['lat', 'lon']] = df[['lat', 'lon']].astype(float)\n",
    "\n",
    "# Convert 'elev' column to int type\n",
    "df['elev_ft'] = df['elev_ft'].astype(int)\n",
    "print(df)"
   ]
  },
  {
   "cell_type": "code",
   "execution_count": null,
   "metadata": {},
   "outputs": [],
   "source": [
    "# Extract the numeric part of the temperature string and convert it to int\n",
    "df['temp_f'] = df['temperature'].str.extract('(\\d+)').astype(int)\n",
    "\n",
    "# Convert temperature to Celsius and add to new column 'temp_c'\n",
    "df['temp_c'] = (df['temp_f'] - 32) * 5/9\n",
    "\n",
    "# Round 'temp_c' to nearest integer and cast to int type\n",
    "df['temp_c'] = df['temp_c'].round().astype(int)\n",
    "print(df)"
   ]
  },
  {
   "cell_type": "code",
   "execution_count": null,
   "metadata": {},
   "outputs": [],
   "source": [
    "# Convert 'humidity' column to float type\n",
    "df['humidity'] = df['humidity'].str.extract('(\\d+)', expand=False).astype(float) / 100\n",
    "\n",
    "print(df)"
   ]
  },
  {
   "cell_type": "code",
   "execution_count": null,
   "metadata": {},
   "outputs": [],
   "source": [
    "# Split wind speed values into components and convert speed to int type\n",
    "df['wind_speed'] = df['wind_speed'].str.extract('(\\d+)', expand=False).fillna(0).astype(int)\n",
    "\n",
    "# Set any missing or non-numeric wind speed values to 0\n",
    "df['wind_speed'] = df['wind_speed'].replace('Calm', 0)\n",
    "\n",
    "print(df)"
   ]
  },
  {
   "cell_type": "code",
   "execution_count": null,
   "metadata": {},
   "outputs": [],
   "source": [
    "# Convert 'barometer' column to float type, and convert inches to millibars\n",
    "df['barometer'] = df['barometer'].apply(lambda x: float(x.split()[0]) * 33.8639 if 'in' in x and x != 'NA' else None)\n",
    "\n",
    "# Round 'barometer' to two decimal places\n",
    "df['barometer'] = df['barometer'].round(2)\n",
    "\n",
    "\n",
    "\n",
    "print(df)"
   ]
  },
  {
   "cell_type": "code",
   "execution_count": null,
   "metadata": {},
   "outputs": [],
   "source": [
    "# Split 'dewpoint' column into separate 'dewpoint_f' and 'dewpoint_c' columns\n",
    "df[['dewpoint_f', 'dewpoint_c']] = df['dewpoint'].str.extract('(\\d+).*?(\\d+)', expand=True).astype(int)\n",
    "\n",
    "print(df)"
   ]
  },
  {
   "cell_type": "code",
   "execution_count": null,
   "metadata": {},
   "outputs": [],
   "source": [
    "# Convert 'vis_miles' column to float type\n",
    "df['vis_miles'] = df['vis_miles'].str.extract('(\\d+\\.\\d+|\\d+)', expand=False).astype(float).round(2)\n",
    "\n",
    "print(df)"
   ]
  },
  {
   "cell_type": "code",
   "execution_count": null,
   "metadata": {},
   "outputs": [],
   "source": [
    "# Split 'wind_chill' column into separate 'wind_chill_f' and 'wind_chill_c' columns\n",
    "df[['wind_chill_f', 'wind_chill_c']] = df['wind_chill'].str.extract('(\\d+).*?(\\d+)', expand=True).astype(float)\n",
    "\n",
    "print(df)"
   ]
  },
  {
   "cell_type": "code",
   "execution_count": null,
   "metadata": {},
   "outputs": [],
   "source": [
    "# Convert 'last_update' column to datetime type with the desired format and time zone\n",
    "df['last_update'] = df['last_update'].apply(lambda x: dateutil.parser.parse(x, tzinfos={'CST': dateutil.tz.tzoffset(None, -21600)}))\n",
    "\n",
    "# Convert 'last_update' column to UTC\n",
    "df['last_update'] = df['last_update'].apply(lambda x: x.astimezone(dateutil.tz.tzutc()))\n",
    "\n",
    "print(df)"
   ]
  },
  {
   "cell_type": "code",
   "execution_count": null,
   "metadata": {},
   "outputs": [],
   "source": [
    "# Drop columns that were split into two values\n",
    "df = df.drop(['temperature', 'dewpoint', 'wind_chill'], axis=1)\n",
    "\n",
    "print(df)"
   ]
  },
  {
   "cell_type": "code",
   "execution_count": null,
   "metadata": {},
   "outputs": [],
   "source": [
    "# Move 'city' and 'state' columns after 'location' column\n",
    "city = df.pop('city')\n",
    "state = df.pop('state')\n",
    "temp_f = df.pop('temp_f')\n",
    "temp_c = df.pop('temp_c')\n",
    "df.insert(1, 'city', city)\n",
    "df.insert(2, 'state', state)\n",
    "df.insert(6, 'temp_f', temp_f)\n",
    "df.insert(7, 'temp_c', temp_c)\n",
    "\n",
    "# Move 'last_update' column to last position\n",
    "last_update = df.pop('last_update')\n",
    "df['last_update'] = last_update\n",
    "\n",
    "\n",
    "print(df)"
   ]
  },
  {
   "cell_type": "code",
   "execution_count": null,
   "metadata": {},
   "outputs": [],
   "source": [
    "df.dtypes"
   ]
  },
  {
   "cell_type": "code",
   "execution_count": null,
   "metadata": {},
   "outputs": [],
   "source": [
    "from google.cloud import bigquery\n",
    "from google.cloud.exceptions import NotFound\n",
    "\n",
    "# Set up the BigQuery client\n",
    "client = bigquery.Client()\n",
    "\n",
    "# Set the project and dataset IDs\n",
    "project_id = \"deb-dev-dw\"\n",
    "dataset_id = \"weather\"\n",
    "table_id = \"daily\"\n",
    "\n",
    "# Set the table schema\n",
    "schema = [\n",
    "    bigquery.SchemaField(\"location\", \"STRING\"),\n",
    "    bigquery.SchemaField(\"lat\", \"FLOAT\"),\n",
    "    bigquery.SchemaField(\"lon\", \"FLOAT\"),\n",
    "    bigquery.SchemaField(\"elev_ft\", \"INTEGER\"),\n",
    "    bigquery.SchemaField(\"humidity\", \"FLOAT\"),\n",
    "    bigquery.SchemaField(\"wind_speed\", \"INTEGER\"),\n",
    "    bigquery.SchemaField(\"barometer\", \"FLOAT\"),\n",
    "    bigquery.SchemaField(\"vis_miles\", \"FLOAT\"),\n",
    "    bigquery.SchemaField(\"dewpoint_f\", \"INTEGER\"),\n",
    "    bigquery.SchemaField(\"dewpoint_c\", \"INTEGER\"),\n",
    "    bigquery.SchemaField(\"wind_chill_f\", \"FLOAT\"),\n",
    "    bigquery.SchemaField(\"wind_chill_c\", \"FLOAT\"),\n",
    "    bigquery.SchemaField(\"city\", \"STRING\"),\n",
    "    bigquery.SchemaField(\"state\", \"STRING\"),\n",
    "    bigquery.SchemaField(\"temp_f\", \"INTEGER\"),\n",
    "    bigquery.SchemaField(\"temp_c\", \"INTEGER\"),\n",
    "    bigquery.SchemaField(\"last_update\", \"TIMESTAMP\"),\n",
    "]\n",
    "\n",
    "# Check if the dataset exists, and create it if it does not\n",
    "try:\n",
    "    dataset_ref = client.dataset(dataset_id)\n",
    "    dataset = client.get_dataset(dataset_ref)\n",
    "except NotFound:\n",
    "    dataset_ref = client.dataset(dataset_id)\n",
    "    dataset = bigquery.Dataset(dataset_ref)\n",
    "    dataset.location = \"US\"\n",
    "    dataset = client.create_dataset(dataset)\n",
    "\n",
    "# Get a reference to the table\n",
    "table_ref = dataset.table(table_id)\n",
    "\n",
    "# Create the table if it doesn't exist\n",
    "try:\n",
    "    client.get_table(table_ref)\n",
    "except NotFound:\n",
    "    table = bigquery.Table(table_ref, schema=schema)\n",
    "    table = client.create_table(table)\n",
    "\n",
    "# Write the DataFrame to BigQuery\n",
    "job_config = bigquery.LoadJobConfig(write_disposition=bigquery.WriteDisposition.WRITE_APPEND)\n",
    "job = client.load_table_from_dataframe(df, table_ref, job_config=job_config)\n",
    "job.result()"
   ]
  },
  {
   "cell_type": "code",
   "execution_count": null,
   "metadata": {},
   "outputs": [],
   "source": [
    "import requests\n",
    "from bs4 import BeautifulSoup\n",
    "import re\n",
    "import pandas as pd\n",
    "from datetime import datetime\n",
    "import dateutil\n",
    "\n",
    "# Split the 'location' column into separate 'city' and 'state' columns\n",
    "df[['city', 'state']] = df['location'].str.split(', ', expand=True)\n",
    "\n",
    "# Convert 'lat' and 'lon' columns to float type\n",
    "df[['lat', 'lon']] = df[['lat', 'lon']].astype(float)\n",
    "\n",
    "# Convert 'elev' column to int type\n",
    "df['elev_ft'] = df['elev_ft'].astype(int)\n",
    "\n",
    "# Extract the numeric part of the temperature string and convert it to int\n",
    "df['temp_f'] = df['temperature'].str.extract('(\\d+)').astype(int)\n",
    "\n",
    "# Convert temperature to Celsius and add to new column 'temp_c'\n",
    "df['temp_c'] = (df['temp_f'] - 32) * 5/9\n",
    "\n",
    "# Round 'temp_c' to nearest integer and cast to int type\n",
    "df['temp_c'] = df['temp_c'].round().astype(int)\n",
    "\n",
    "# Convert 'humidity' column to float type\n",
    "df['humidity'] = df['humidity'].str.extract('(\\d+)', expand=False).astype(float) / 100\n",
    "\n",
    "# Split wind speed values into components and convert speed to int type\n",
    "df['wind_speed'] = df['wind_speed'].str.extract('(\\d+)', expand=False).fillna(0).astype(int)\n",
    "\n",
    "# Set any missing or non-numeric wind speed values to 0\n",
    "df['wind_speed'] = df['wind_speed'].replace('Calm', 0)\n",
    "\n",
    "# Convert 'barometer' column to float type, and convert inches to millibars\n",
    "df['barometer'] = df['barometer'].apply(lambda x: float(x.split()[0]) * 33.8639 if 'in' in x and x != 'NA' else None)\n",
    "\n",
    "# Round 'barometer' to two decimal places\n",
    "df['barometer'] = df['barometer'].round(2)\n",
    "\n",
    "# Split 'dewpoint' column into separate 'dewpoint_f' and 'dewpoint_c' columns\n",
    "df[['dewpoint_f', 'dewpoint_c']] = df['dewpoint'].str.extract('(\\d+).*?(\\d+)', expand=True).astype(int)\n",
    "\n",
    "# Convert 'vis_miles' column to float type\n",
    "df['vis_miles'] = df['vis_miles'].str.extract('(\\d+\\.\\d+|\\d+)', expand=False).astype(float).round(2)\n",
    "\n",
    "# Split 'wind_chill' column into separate 'wind_chill_f' and 'wind_chill_c' columns\n",
    "df[['wind_chill_f', 'wind_chill_c']] = df['wind_chill'].str.extract('(\\d+).*?(\\d+)', expand=True).astype(float)\n",
    "\n",
    "# Convert 'last_update' column to datetime type with the desired format and time zone\n",
    "df['last_update'] = df['last_update'].apply(lambda x: dateutil.parser.parse(x, tzinfos={'CST': dateutil.tz.tzoffset(None, -21600)}))\n",
    "\n",
    "# Convert 'last_update' column to UTC\n",
    "df['last_update'] = df['last_update'].apply(lambda x: x.astimezone(dateutil.tz.tzutc()))\n",
    "\n",
    "# Drop columns that were split into two values\n",
    "df = df.drop(['temperature', 'dewpoint', 'wind_chill'], axis=1)\n",
    "\n",
    "# Move 'city' and 'state' columns after 'location' column\n",
    "city = df.pop('city')\n",
    "state = df.pop('state')\n",
    "temp_f = df.pop('temp_f')\n",
    "temp_c = df.pop('temp_c')\n",
    "df.insert(1, 'city', city)\n",
    "df.insert(2, 'state', state)\n",
    "df.insert(6, 'temp_f', temp_f)\n",
    "df.insert(7, 'temp_c', temp_c)\n",
    "\n",
    "# Move 'last_update' column to last position\n",
    "last_update = df.pop('last_update')\n",
    "df['last_update'] = last_update\n",
    "\n",
    "\n",
    "print(df)\n"
   ]
  }
 ],
 "metadata": {
  "kernelspec": {
   "display_name": "venv",
   "language": "python",
   "name": "python3"
  },
  "language_info": {
   "codemirror_mode": {
    "name": "ipython",
    "version": 3
   },
   "file_extension": ".py",
   "mimetype": "text/x-python",
   "name": "python",
   "nbconvert_exporter": "python",
   "pygments_lexer": "ipython3",
   "version": "3.7.16"
  },
  "orig_nbformat": 4,
  "vscode": {
   "interpreter": {
    "hash": "51350c9371c2ae5e4fc537f59a20b1e199e08343f95973e53e327f646c8673a4"
   }
  }
 },
 "nbformat": 4,
 "nbformat_minor": 2
}
