{
 "cells": [
  {
   "attachments": {},
   "cell_type": "markdown",
   "metadata": {},
   "source": [
    "```json\n",
    "  {  \"Name\": \"Portland, OR\",\n",
    "\n",
    "  \"Lat\": \"45.59578°N\",\n",
    "\n",
    "  \"Lon\": \"122.60917°W\",\n",
    "\n",
    "  \"Elev\": \"20ft.\",\n",
    "\n",
    "  \"Temperature\": \"45\\u00b0F\",\n",
    "\n",
    "  \"Humidity\": \"75%\",\n",
    "\n",
    "  \"Wind Speed\": \"WSW 8 mph\",\n",
    "\n",
    "  \"Barometer\": \"29.99 in (1015.58 mb)\",\n",
    "\n",
    "  \"Dewpoint\": \"37\\u00b0F (3\\u00b0C)\",\n",
    "\n",
    "  \"Visibility\": \"10.00 mi\",\n",
    "\n",
    "  \"Wind Chill\": \"41\\u00b0F (5\\u00b0C)\",\n",
    "\n",
    "  \"Last update\": \"13 Feb 10:15 AM PST\"}\n",
    "\n",
    "\n",
    "\n",
    "  {  \"Name\": \"San Diego, CA\",\n",
    "\n",
    "  \"Lat\": \"32.73361°N\",\n",
    "\n",
    "  \"Lon\": \"117.18306°W\",\n",
    "\n",
    "  \"Elev\": \"13ft.\",\n",
    "\n",
    "  \"Temperature\": \"55\\u00b0F\",\n",
    "\n",
    "  \"Humidity\": \"66%\",\n",
    "\n",
    "  \"Wind Speed\": \"SE 3 MPH\",\n",
    "\n",
    "  \"Barometer\": \"30.0 in (1015.92 mb)\",\n",
    "\n",
    "  \"Dewpoint\": \"44\\u00b0F (7\\u00b0C)\",\n",
    "\n",
    "  \"Visibility\": \"10.00 mi\",\n",
    "\n",
    "  \"Wind Chill\": \"Null\",\n",
    "\n",
    "  \"Last update\": \"13 Feb 09:35 AM PST\"}\n",
    "\n",
    "\n",
    "\n",
    "  {  \"Name\": \"Duluth, MN\",\n",
    "\n",
    "  \"Temperature\": \"39\\u00b0F\",\n",
    "\n",
    "  \"Humidity\": \"56%\",\n",
    "\n",
    "  \"Wind Speed\": \"SW 10 mph\",\n",
    "\n",
    "  \"Barometer\": \"27.71 in (1029.8 mb)\",\n",
    "\n",
    "  \"Dewpoint\": \"25\\u00b0F (-4\\u00b0C)\",\n",
    "\n",
    "  \"Visibility\": \"10.00 mi\",\n",
    "\n",
    "  \"Wind Chill\": \"32\\u00b0F (0\\u00b0C)\",\n",
    "\n",
    "  \"Last update\": \"13 Feb 12:55 pm CST\"}\n",
    "```"
   ]
  },
  {
   "cell_type": "code",
   "execution_count": 31,
   "metadata": {},
   "outputs": [
    {
     "name": "stderr",
     "output_type": "stream",
     "text": [
      "/Users/drewwhite/Desktop/Epicodus/team-week3/venv/lib/python3.7/site-packages/ipykernel_launcher.py:19: DeprecationWarning: The 'text' argument to find()-type methods is deprecated. Use 'string' instead.\n",
      "/Users/drewwhite/Desktop/Epicodus/team-week3/venv/lib/python3.7/site-packages/ipykernel_launcher.py:21: DeprecationWarning: The 'text' argument to find()-type methods is deprecated. Use 'string' instead.\n",
      "/Users/drewwhite/Desktop/Epicodus/team-week3/venv/lib/python3.7/site-packages/ipykernel_launcher.py:23: DeprecationWarning: The 'text' argument to find()-type methods is deprecated. Use 'string' instead.\n",
      "/Users/drewwhite/Desktop/Epicodus/team-week3/venv/lib/python3.7/site-packages/ipykernel_launcher.py:25: DeprecationWarning: The 'text' argument to find()-type methods is deprecated. Use 'string' instead.\n",
      "/Users/drewwhite/Desktop/Epicodus/team-week3/venv/lib/python3.7/site-packages/ipykernel_launcher.py:27: DeprecationWarning: The 'text' argument to find()-type methods is deprecated. Use 'string' instead.\n",
      "/Users/drewwhite/Desktop/Epicodus/team-week3/venv/lib/python3.7/site-packages/ipykernel_launcher.py:29: DeprecationWarning: The 'text' argument to find()-type methods is deprecated. Use 'string' instead.\n",
      "/Users/drewwhite/Desktop/Epicodus/team-week3/venv/lib/python3.7/site-packages/ipykernel_launcher.py:31: DeprecationWarning: The 'text' argument to find()-type methods is deprecated. Use 'string' instead.\n"
     ]
    },
    {
     "name": "stdout",
     "output_type": "stream",
     "text": [
      "        location       lat        lon elev_ft temperature humidity  \\\n",
      "0   Portland, OR  45.59578  122.60917      20        36°F      86%   \n",
      "1  San Diego, CA  32.73361  117.18306      13        57°F      67%   \n",
      "2     Duluth, MN     46.72      92.04     607        34°F      93%   \n",
      "\n",
      "   wind_speed              barometer    dewpoint visibility wind_chill  \\\n",
      "0     N 0 MPH  30.05 in (1017.61 mb)  32°F (0°C)   10.00 mi         NA   \n",
      "1  WSW 16 MPH   30.0 in (1015.92 mb)  46°F (8°C)   10.00 mi         NA   \n",
      "2        Calm               29.48 in  32°F (0°C)    8.00 mi         NA   \n",
      "\n",
      "           last_update  \n",
      "0  14 Feb 08:20 AM PST  \n",
      "1  14 Feb 08:20 AM PST  \n",
      "2  14 Feb 10:55 am CST  \n"
     ]
    }
   ],
   "source": [
    "import requests\n",
    "from bs4 import BeautifulSoup\n",
    "import re\n",
    "import pandas as pd\n",
    "\n",
    "with open('cities.json') as f:\n",
    "    cities = json.load(f)\n",
    "\n",
    "data = []\n",
    "\n",
    "for city in cities:\n",
    "    response = requests.get(city['NWS_URL'])\n",
    "    soup = BeautifulSoup(response.content, 'html.parser')\n",
    "\n",
    "    location = soup.find('h2', {'class': 'panel-title'})\n",
    "    lat_lon_elev = soup.find('span', {'class': 'smallTxt'}).text.strip()\n",
    "    lat, lon, elev = re.findall(r'[-+]?\\d*\\.\\d+|\\d+', lat_lon_elev)\n",
    "    temperature = soup.find('p', {'class': 'myforecast-current-lrg'})\n",
    "    humidity_elem = soup.find('td', text='Humidity')\n",
    "    humidity = humidity_elem.find_next('td').text.strip() if humidity_elem else 'NA'\n",
    "    wind_speed_elem = soup.find('td', text='Wind Speed')\n",
    "    wind_speed = wind_speed_elem.find_next('td').text.strip() if wind_speed_elem else 'NA'\n",
    "    barometer_elem = soup.find('td', text='Barometer')\n",
    "    barometer = barometer_elem.find_next('td').text.strip() if barometer_elem else 'NA'\n",
    "    dewpoint_elem = soup.find('td', text='Dewpoint')\n",
    "    dewpoint = dewpoint_elem.find_next('td').text.strip() if dewpoint_elem else 'NA'\n",
    "    visibility_elem = soup.find('td', text='Visibility')\n",
    "    visibility = visibility_elem.find_next('td').text.strip() if visibility_elem else 'NA'\n",
    "    wind_chill_elem = soup.find('td', text='Wind Chill')\n",
    "    wind_chill = wind_chill_elem.find_next('td').text.strip() if wind_chill_elem else 'NA'\n",
    "    last_update_elem = soup.find('td', text='Last update')\n",
    "    last_update = last_update_elem.find_next('td').text.strip() if last_update_elem else 'NA'\n",
    "\n",
    "    data.append({\n",
    "        'location': city['Name'],\n",
    "        'lat': lat,\n",
    "        'lon': lon,\n",
    "        'elev_ft': elev,\n",
    "        'temperature': temperature.text if temperature else 'NA',\n",
    "        'humidity': humidity,\n",
    "        'wind_speed': wind_speed,\n",
    "        'barometer': barometer,\n",
    "        'dewpoint': dewpoint,\n",
    "        'visibility': visibility,\n",
    "        'wind_chill': wind_chill,\n",
    "        'last_update': last_update\n",
    "    })\n",
    "\n",
    "df = pd.DataFrame(data)\n",
    "print(df)\n"
   ]
  },
  {
   "cell_type": "code",
   "execution_count": 29,
   "metadata": {},
   "outputs": [
    {
     "data": {
      "text/plain": [
       "Location       object\n",
       "Lat            object\n",
       "Lon            object\n",
       "Elev           object\n",
       "Temperature    object\n",
       "Humidity       object\n",
       "Wind Speed     object\n",
       "Barometer      object\n",
       "Dewpoint       object\n",
       "Visibility     object\n",
       "Wind Chill     object\n",
       "Last update    object\n",
       "dtype: object"
      ]
     },
     "execution_count": 29,
     "metadata": {},
     "output_type": "execute_result"
    }
   ],
   "source": [
    "df.dtypes"
   ]
  }
 ],
 "metadata": {
  "kernelspec": {
   "display_name": "venv",
   "language": "python",
   "name": "python3"
  },
  "language_info": {
   "codemirror_mode": {
    "name": "ipython",
    "version": 3
   },
   "file_extension": ".py",
   "mimetype": "text/x-python",
   "name": "python",
   "nbconvert_exporter": "python",
   "pygments_lexer": "ipython3",
   "version": "3.7.16"
  },
  "orig_nbformat": 4,
  "vscode": {
   "interpreter": {
    "hash": "51350c9371c2ae5e4fc537f59a20b1e199e08343f95973e53e327f646c8673a4"
   }
  }
 },
 "nbformat": 4,
 "nbformat_minor": 2
}
